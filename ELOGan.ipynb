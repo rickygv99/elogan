{
  "cells": [
    {
      "cell_type": "code",
      "execution_count": null,
      "id": "R_etdJU_zTiu",
      "metadata": {
        "colab": {
          "base_uri": "https://localhost:8080/"
        },
        "id": "R_etdJU_zTiu",
        "outputId": "63b4bd3f-2318-471c-98b4-df181cbcb135"
      },
      "outputs": [],
      "source": [
        "!pip install python-chess"
      ]
    },
    {
      "cell_type": "code",
      "execution_count": null,
      "id": "yQooSin_cm_t",
      "metadata": {
        "colab": {
          "base_uri": "https://localhost:8080/",
          "height": 73
        },
        "id": "yQooSin_cm_t",
        "outputId": "385a7795-1c53-4422-a677-f854a3f331d6"
      },
      "outputs": [],
      "source": [
        "from numpy.ma.core import zeros\n",
        "import pandas as pd\n",
        "from google.colab import files\n",
        "uploaded = files.upload()\n",
        "\n",
        "import io\n",
        "\n",
        "df = pd.read_csv(io.BytesIO(uploaded[\"club_games_data.csv\"]))"
      ]
    },
    {
      "cell_type": "code",
      "execution_count": null,
      "id": "80cc9efb",
      "metadata": {
        "_kg_hide-input": true,
        "colab": {
          "base_uri": "https://localhost:8080/",
          "height": 350
        },
        "execution": {
          "iopub.execute_input": "2021-08-03T01:18:50.086401Z",
          "iopub.status.busy": "2021-08-03T01:18:50.085758Z",
          "iopub.status.idle": "2021-08-03T01:18:54.449448Z",
          "shell.execute_reply": "2021-08-03T01:18:54.448929Z",
          "shell.execute_reply.started": "2021-08-03T01:14:41.727373Z"
        },
        "id": "80cc9efb",
        "outputId": "5c964bd0-c093-4089-eca6-6583971bc03e",
        "papermill": {
          "duration": 4.399494,
          "end_time": "2021-08-03T01:18:54.449582",
          "exception": false,
          "start_time": "2021-08-03T01:18:50.050088",
          "status": "completed"
        },
        "tags": []
      },
      "outputs": [],
      "source": [
        "df.head(2)"
      ]
    },
    {
      "cell_type": "code",
      "execution_count": null,
      "id": "7awumFn5fjct",
      "metadata": {
        "colab": {
          "base_uri": "https://localhost:8080/"
        },
        "id": "7awumFn5fjct",
        "outputId": "7e2c333e-2f4e-4d8f-f787-04da4f934a39"
      },
      "outputs": [],
      "source": [
        "df.shape"
      ]
    },
    {
      "cell_type": "code",
      "execution_count": null,
      "id": "e8f654cb",
      "metadata": {
        "execution": {
          "iopub.execute_input": "2021-08-03T01:19:01.166435Z",
          "iopub.status.busy": "2021-08-03T01:19:01.165764Z",
          "iopub.status.idle": "2021-08-03T01:19:01.216832Z",
          "shell.execute_reply": "2021-08-03T01:19:01.216268Z",
          "shell.execute_reply.started": "2021-08-03T01:14:59.439265Z"
        },
        "id": "e8f654cb",
        "papermill": {
          "duration": 0.1022,
          "end_time": "2021-08-03T01:19:01.216972",
          "exception": false,
          "start_time": "2021-08-03T01:19:01.114772",
          "status": "completed"
        },
        "tags": []
      },
      "outputs": [],
      "source": [
        "df = df[df['rules']=='chess']\n",
        "df.drop('rules',axis=1,inplace=True)"
      ]
    },
    {
      "cell_type": "code",
      "execution_count": null,
      "id": "FzLyo9tqgJ2B",
      "metadata": {
        "colab": {
          "base_uri": "https://localhost:8080/"
        },
        "id": "FzLyo9tqgJ2B",
        "outputId": "94d3ab0e-6054-4ab6-e50b-33fc7977b401"
      },
      "outputs": [],
      "source": [
        "df.shape"
      ]
    },
    {
      "cell_type": "code",
      "execution_count": null,
      "id": "vOXWBThXjKTo",
      "metadata": {
        "id": "vOXWBThXjKTo"
      },
      "outputs": [],
      "source": [
        "df[\"avg_rating\"] = df[[\"white_rating\", \"black_rating\"]].mean(axis=1)"
      ]
    },
    {
      "cell_type": "code",
      "execution_count": null,
      "id": "eMNOIH4gjZ7g",
      "metadata": {
        "colab": {
          "base_uri": "https://localhost:8080/",
          "height": 300
        },
        "id": "eMNOIH4gjZ7g",
        "outputId": "3bc3737a-9657-4bc1-cb25-b0f6be1a725b"
      },
      "outputs": [],
      "source": [
        "df[[\"white_rating\", \"black_rating\"]].describe()"
      ]
    },
    {
      "cell_type": "code",
      "execution_count": null,
      "id": "GdT3wzlmhuzV",
      "metadata": {
        "colab": {
          "base_uri": "https://localhost:8080/"
        },
        "id": "GdT3wzlmhuzV",
        "outputId": "658644bd-9832-4d7e-c15f-263682fa4ff0"
      },
      "outputs": [],
      "source": [
        "df[\"avg_rating\"].describe()"
      ]
    },
    {
      "cell_type": "code",
      "execution_count": null,
      "id": "E91VWfWShdUA",
      "metadata": {
        "colab": {
          "base_uri": "https://localhost:8080/",
          "height": 279
        },
        "id": "E91VWfWShdUA",
        "outputId": "06e63712-4143-4641-9e54-cadf3d67dd18"
      },
      "outputs": [],
      "source": [
        "import matplotlib.pyplot as plt\n",
        "\n",
        "plt.hist(pd.concat([df[\"white_rating\"], df[\"black_rating\"]]), 50, facecolor=\"green\")\n",
        "plt.xlabel(\"ELO rating\")\n",
        "plt.ylabel(\"Number of players\")\n",
        "plt.show()"
      ]
    },
    {
      "cell_type": "code",
      "execution_count": null,
      "id": "iaEaxFymz2Sl",
      "metadata": {
        "colab": {
          "base_uri": "https://localhost:8080/",
          "height": 165
        },
        "id": "iaEaxFymz2Sl",
        "outputId": "3b32656f-f636-49d0-ec35-7cc57ccf2c7c"
      },
      "outputs": [],
      "source": [
        "df[\"pgn\"][0]"
      ]
    },
    {
      "cell_type": "code",
      "execution_count": null,
      "id": "C8N-kA5j3g7b",
      "metadata": {
        "colab": {
          "base_uri": "https://localhost:8080/"
        },
        "id": "C8N-kA5j3g7b",
        "outputId": "0c9f2e1b-cb3b-48e6-af29-cfc978ca345b"
      },
      "outputs": [],
      "source": [
        "import random\n",
        "\n",
        "shuffled_idxs = list(range(len(df[\"pgn\"])))\n",
        "random.shuffle(shuffled_idxs)\n",
        "train_idxs = shuffled_idxs[ : int(len(shuffled_idxs) * 0.70)]\n",
        "val_idxs = shuffled_idxs[int(len(shuffled_idxs) * 0.70) : int(len(shuffled_idxs) * 0.85)]\n",
        "test_idxs = shuffled_idxs[int(len(shuffled_idxs) * 0.85) : ]\n",
        "\n",
        "print(len(train_idxs))\n",
        "print(len(val_idxs))\n",
        "print(len(test_idxs))"
      ]
    },
    {
      "cell_type": "code",
      "execution_count": null,
      "id": "sbPoPjpCzWzh",
      "metadata": {
        "colab": {
          "base_uri": "https://localhost:8080/"
        },
        "id": "sbPoPjpCzWzh",
        "outputId": "cac1c2bc-39f5-4ece-f8b0-c37487e03e86"
      },
      "outputs": [],
      "source": [
        "import chess.pgn\n",
        "import io\n",
        "import numpy as np\n",
        "\n",
        "game = chess.pgn.read_game(io.StringIO(df[\"pgn\"][0]))\n",
        "board = game.board()\n",
        "\n",
        "square_to_idx = {\n",
        "    \".\": 0,\n",
        "    \"r\": 1,\n",
        "    \"n\": 2,\n",
        "    \"b\": 3,\n",
        "    \"q\": 4,\n",
        "    \"k\": 5,\n",
        "    \"p\": 6,\n",
        "    \"R\": 7,\n",
        "    \"N\": 8,\n",
        "    \"B\": 9,\n",
        "    \"Q\": 10,\n",
        "    \"K\": 11,\n",
        "    \"P\": 12,\n",
        "}\n",
        "\n",
        "def preprocess(board):\n",
        "  board_as_list = str(board).split()\n",
        "  board_as_int_list = [square_to_idx[square] for square in board_as_list]\n",
        "  board_np = np.array(board_as_int_list)\n",
        "  return board_np\n",
        "\n",
        "for move in game.mainline_moves():\n",
        "  print(preprocess(board))\n",
        "  print(\"\\n\\n\\n\")\n",
        "  board.push(move)"
      ]
    },
    {
      "cell_type": "code",
      "execution_count": null,
      "id": "fRrq5xKUzZk7",
      "metadata": {
        "colab": {
          "base_uri": "https://localhost:8080/"
        },
        "id": "fRrq5xKUzZk7",
        "outputId": "1f09d53e-1105-4211-f85c-227383632876"
      },
      "outputs": [],
      "source": [
        "game = chess.pgn.read_game(io.StringIO(df[\"pgn\"][0]))\n",
        "board = game.board()\n",
        "\n",
        "for move in board.legal_moves:\n",
        "  board.push(move)\n",
        "  print(board)\n",
        "  board.pop()"
      ]
    },
    {
      "cell_type": "code",
      "execution_count": null,
      "id": "_0JzcVfNwtBZ",
      "metadata": {
        "colab": {
          "base_uri": "https://localhost:8080/"
        },
        "id": "_0JzcVfNwtBZ",
        "outputId": "9f298375-974e-4cb7-d912-5cb4b1d4ae7f"
      },
      "outputs": [],
      "source": [
        "game = chess.pgn.read_game(io.StringIO(df[\"pgn\"][0]))\n",
        "board = game.board()\n",
        "\n",
        "board_np = preprocess(board)\n",
        "print(type(board_np))\n",
        "print(board_np)\n",
        "print(\"\\n\")\n",
        "\n",
        "BOARD_SIZE = board_np.size\n",
        "print(BOARD_SIZE)"
      ]
    },
    {
      "cell_type": "code",
      "execution_count": null,
      "id": "GImHcT-4qXLQ",
      "metadata": {
        "id": "GImHcT-4qXLQ"
      },
      "outputs": [],
      "source": [
        "import torch\n",
        "from torch import nn\n",
        "\n",
        "class Discriminator(nn.Module):\n",
        "  def __init__(self):\n",
        "    super().__init__()\n",
        "    self.model = nn.Sequential(\n",
        "        nn.Linear(1 + BOARD_SIZE * 2, 2048),\n",
        "        nn.ReLU(),\n",
        "        nn.Linear(2048, 2048),\n",
        "        nn.ReLU(),\n",
        "        nn.Linear(2048, 2048),\n",
        "        nn.ReLU(),\n",
        "        nn.Linear(2048, 1),\n",
        "        nn.Sigmoid(),\n",
        "    )\n",
        "  \n",
        "  def forward(self, x):\n",
        "    out = self.model(x)\n",
        "    return out\n",
        "\n",
        "discriminator = Discriminator()\n",
        "discriminator_optim = torch.optim.Adam(discriminator.parameters(), lr=1e-7)\n",
        "discriminator_loss_func = nn.BCELoss()"
      ]
    },
    {
      "cell_type": "code",
      "execution_count": null,
      "id": "0l_jt5JOrE1R",
      "metadata": {
        "id": "0l_jt5JOrE1R"
      },
      "outputs": [],
      "source": [
        "import keras.backend as K\n",
        "\n",
        "class Generator(nn.Module):\n",
        "  def __init__(self):\n",
        "    super().__init__()\n",
        "    self.model = nn.Sequential(\n",
        "        nn.Linear(BOARD_SIZE, 2048),\n",
        "        nn.ReLU(),\n",
        "        nn.Linear(2048, 2048),\n",
        "        nn.ReLU(),\n",
        "        nn.Linear(2048, 1),\n",
        "    )\n",
        "  \n",
        "  def forward(self, x):\n",
        "    out = self.model(x)\n",
        "    return out\n",
        "\n",
        "# Hyperparameter to control how much discriminator regularizes generator\n",
        "k = 5\n",
        "\n",
        "def gen_loss(y_true, y_pred):\n",
        "  loss = torch.max(y_pred,0)[0] - y_pred * y_true\n",
        "  loss += k * torch.log(1+torch.exp((-1)*torch.abs(y_pred)))\n",
        "  return torch.mean(loss)\n",
        "\n",
        "generator = Generator()\n",
        "generator_optim = torch.optim.Adam(generator.parameters(), lr=1e-4)\n",
        "generator_loss_func = gen_loss"
      ]
    },
    {
      "cell_type": "code",
      "execution_count": null,
      "id": "gHOHPyCHr2wS",
      "metadata": {
        "colab": {
          "base_uri": "https://localhost:8080/"
        },
        "id": "gHOHPyCHr2wS",
        "outputId": "55b1bca6-c520-48c3-eacf-4fa2184a3491"
      },
      "outputs": [],
      "source": [
        "import random\n",
        "import tensorflow as tf\n",
        "\n",
        "tf.compat.v1.disable_eager_execution()\n",
        "\n",
        "def get_generated_samples(num_samples):\n",
        "  generated_samples = []\n",
        "\n",
        "  for i in range(num_samples):\n",
        "    while True:\n",
        "      try:\n",
        "        data_idx = train_idxs[random.randint(0, len(train_idxs))]\n",
        "        elo = int((df[\"white_rating\"][data_idx] + df[\"black_rating\"][data_idx]) / 2)\n",
        "\n",
        "        game_pgn = df[\"pgn\"][data_idx]\n",
        "        game = chess.pgn.read_game(io.StringIO(game_pgn))\n",
        "        board = game.board()\n",
        "\n",
        "        moves = [m for m in game.mainline_moves()]\n",
        "        num_moves = len(moves)\n",
        "        rand_pos_idx = random.randint(0, num_moves - 1) # -1 because we don't want the end position\n",
        "      except Exception:\n",
        "        continue\n",
        "      break\n",
        "\n",
        "    for i, move in enumerate(moves[:rand_pos_idx]):\n",
        "      board.push(move)\n",
        "\n",
        "    scores = []\n",
        "    possible_moves = [m for m in board.legal_moves]\n",
        "\n",
        "    for move in possible_moves:\n",
        "      board.push(move)\n",
        "      state = preprocess(board)\n",
        "      state = np.expand_dims(state, axis=0)\n",
        "      state = torch.from_numpy(state).float()\n",
        "      scores.append(generator(state))\n",
        "      board.pop()\n",
        "    \n",
        "    pred_move = possible_moves[scores.index(max(scores))]\n",
        "\n",
        "    board_after_move = board.copy()\n",
        "    board_after_move.push(pred_move)\n",
        "\n",
        "    sample = np.concatenate([[elo], preprocess(board), preprocess(board_after_move)])\n",
        "    sample = torch.from_numpy(sample).float()\n",
        "\n",
        "    generated_samples.append(sample)\n",
        "  \n",
        "  return torch.stack(generated_samples)\n",
        "\n",
        "def get_real_samples(num_samples):\n",
        "  real_samples = []\n",
        "\n",
        "  for i in range(num_samples):\n",
        "    while True:\n",
        "      try:\n",
        "        data_idx = train_idxs[random.randint(0, len(train_idxs))]\n",
        "        elo = int((df[\"white_rating\"][data_idx] + df[\"black_rating\"][data_idx]) / 2)\n",
        "\n",
        "        game_pgn = df[\"pgn\"][data_idx]\n",
        "        game = chess.pgn.read_game(io.StringIO(game_pgn))\n",
        "        board = game.board()\n",
        "\n",
        "        moves = [m for m in game.mainline_moves()]\n",
        "        num_moves = len(moves)\n",
        "        rand_pos_idx = random.randint(0, num_moves - 1) # -1 because we don't want the end position\n",
        "      except Exception:\n",
        "        continue\n",
        "      break\n",
        "\n",
        "    for i, move in enumerate(moves[:rand_pos_idx]):\n",
        "      board.push(move)\n",
        "    \n",
        "    board_after_move = board.copy()\n",
        "    board_after_move.push(moves[rand_pos_idx])\n",
        "\n",
        "    sample = np.concatenate([[elo], preprocess(board), preprocess(board_after_move)])\n",
        "    sample = torch.from_numpy(sample).float()\n",
        "\n",
        "    real_samples.append(sample)\n",
        "  \n",
        "  return torch.stack(real_samples)\n",
        "\n",
        "NUM_EPOCHS = 200\n",
        "BATCH_SIZE = 32\n",
        "\n",
        "for i in range(NUM_EPOCHS):\n",
        "  print(f\"Running epoch {i+1}\")\n",
        "  \n",
        "  generated_samples = get_generated_samples(BATCH_SIZE)\n",
        "  real_samples = get_real_samples(BATCH_SIZE)\n",
        "  all_samples = torch.cat((real_samples, generated_samples))\n",
        "\n",
        "  generated_samples_labels = torch.zeros((BATCH_SIZE, 1))\n",
        "  real_samples_labels = torch.ones((BATCH_SIZE, 1))\n",
        "  all_samples_labels = torch.cat((real_samples_labels, generated_samples_labels))\n",
        "  \n",
        "  # Train discriminator\n",
        "  discriminator.zero_grad()\n",
        "  out_discriminator = discriminator(all_samples)\n",
        "  loss_discriminator = discriminator_loss_func(out_discriminator, all_samples_labels)\n",
        "  loss_discriminator.backward()\n",
        "  discriminator_optim.step()\n",
        "\n",
        "  print(f\"loss_discriminator: {loss_discriminator.item()}\")\n",
        "\n",
        "  # Train generator\n",
        "  generator.zero_grad()\n",
        "  out_discriminator_gen = discriminator(all_samples)\n",
        "  loss_generator = generator_loss_func(out_discriminator_gen, all_samples_labels)\n",
        "  loss_generator.backward()\n",
        "  generator_optim.step()\n",
        "\n",
        "  print(f\"loss_generator: {loss_generator.item()}\")\n"
      ]
    }
  ],
  "metadata": {
    "colab": {
      "provenance": []
    },
    "kernelspec": {
      "display_name": "Python 3",
      "language": "python",
      "name": "python3"
    },
    "language_info": {
      "codemirror_mode": {
        "name": "ipython",
        "version": 3
      },
      "file_extension": ".py",
      "mimetype": "text/x-python",
      "name": "python",
      "nbconvert_exporter": "python",
      "pygments_lexer": "ipython3",
      "version": "3.7.10"
    },
    "papermill": {
      "default_parameters": {},
      "duration": 35.80308,
      "end_time": "2021-08-03T01:19:05.948493",
      "environment_variables": {},
      "exception": null,
      "input_path": "__notebook__.ipynb",
      "output_path": "__notebook__.ipynb",
      "parameters": {},
      "start_time": "2021-08-03T01:18:30.145413",
      "version": "2.3.3"
    }
  },
  "nbformat": 4,
  "nbformat_minor": 5
}
